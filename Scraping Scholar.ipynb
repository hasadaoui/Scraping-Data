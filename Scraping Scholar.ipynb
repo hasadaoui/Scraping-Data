{
 "cells": [
  {
   "cell_type": "markdown",
   "metadata": {},
   "source": [
    "# Loading packages"
   ]
  },
  {
   "cell_type": "code",
   "execution_count": 1,
   "metadata": {},
   "outputs": [],
   "source": [
    "import csv\n",
    "import pandas as pd\n",
    "import string\n",
    "\n",
    "import requests\n",
    "import datetime\n",
    "from time import sleep, time\n",
    "\n",
    "from selenium import webdriver\n",
    "from selenium.webdriver.common.by import By\n",
    "from selenium.webdriver.support.ui import WebDriverWait\n",
    "from selenium.webdriver.support import expected_conditions as EC\n",
    "\n",
    "from bs4 import BeautifulSoup"
   ]
  },
  {
   "cell_type": "markdown",
   "metadata": {},
   "source": [
    "# Get driver"
   ]
  },
  {
   "cell_type": "code",
   "execution_count": 2,
   "metadata": {},
   "outputs": [],
   "source": [
    "def get_driver():\n",
    "    options = webdriver.ChromeOptions()\n",
    "    options.add_argument('--headless')\n",
    "    driver = webdriver.Chrome(executable_path=\"C:/Users/sadaouih/Desktop/Github Project/Scraping Data/chromedriver/chromedriver.exe\",chrome_options=options)\n",
    "    return driver"
   ]
  },
  {
   "cell_type": "markdown",
   "metadata": {},
   "source": [
    "# Connexion to the URL"
   ]
  },
  {
   "cell_type": "code",
   "execution_count": 3,
   "metadata": {},
   "outputs": [],
   "source": [
    "def connect_to_base(browser,page_number):\n",
    "    \n",
    "    base_url = 'https://scholar.google.fr/scholar?start=' + str(page_number) + '&q=perinatal++and+PMSI+&hl=fr&as_sdt=0,5'\n",
    "    connection_attempts = 0\n",
    "    while connection_attempts < 3: # Nombre d'essai pour se connecter au site\n",
    "        try:\n",
    "            browser.get(base_url)\n",
    "            WebDriverWait(browser, 5).until(EC.presence_of_element_located((By.ID, 'gs_res_ccl')))\n",
    "            return True\n",
    "        except Exception as ex:\n",
    "            connection_attempts += 1\n",
    "            print(\"Error connecting to {}\".format(base_url))\n",
    "            print(\"Attempt #{}\".format(connection_attempts))\n",
    "    return False"
   ]
  },
  {
   "cell_type": "code",
   "execution_count": 4,
   "metadata": {},
   "outputs": [
    {
     "name": "stderr",
     "output_type": "stream",
     "text": [
      "C:\\Users\\sadaouih\\AppData\\Local\\Continuum\\anaconda3\\envs\\dscience-env\\lib\\site-packages\\ipykernel_launcher.py:4: DeprecationWarning: use options instead of chrome_options\n",
      "  after removing the cwd from sys.path.\n"
     ]
    },
    {
     "data": {
      "text/plain": [
       "True"
      ]
     },
     "execution_count": 4,
     "metadata": {},
     "output_type": "execute_result"
    }
   ],
   "source": [
    "browser = get_driver()\n",
    "connect_to_base(browser,60)"
   ]
  },
  {
   "cell_type": "markdown",
   "metadata": {},
   "source": [
    "# Parse HTML link and get database"
   ]
  },
  {
   "cell_type": "code",
   "execution_count": 5,
   "metadata": {},
   "outputs": [],
   "source": [
    "def parse_html(html):\n",
    "    \n",
    "    soup = BeautifulSoup(html,'html.parser')\n",
    "    blocks = soup.find_all('div',class_=\"gs_r gs_or gs_scl\")\n",
    "    output_list = []\n",
    "    \n",
    "    for link in blocks:\n",
    "        title = link.h3.get_text()\n",
    "        autor = link.find('div',class_='gs_a').get_text()     \n",
    "        url  =  link.find('a', href=True)['href']  \n",
    "        try:\n",
    "            desc  = link.find('div',class_='gs_rs').get_text()\n",
    "        except Exception as ex:\n",
    "            desc = \"NA\"\n",
    "        page_info = {\n",
    "            'title': title,\n",
    "            'autor': autor,\n",
    "            'desc': desc,\n",
    "            'url': url\n",
    "        }\n",
    "        output_list.append(page_info)\n",
    "    #dataf = pd.DataFrame(output_list)\n",
    "    return(output_list)"
   ]
  },
  {
   "cell_type": "code",
   "execution_count": 6,
   "metadata": {},
   "outputs": [],
   "source": [
    "html1 = browser.page_source\n",
    "first_page = parse_html(html1)"
   ]
  },
  {
   "cell_type": "code",
   "execution_count": 7,
   "metadata": {},
   "outputs": [
    {
     "data": {
      "text/html": [
       "<div>\n",
       "<style scoped>\n",
       "    .dataframe tbody tr th:only-of-type {\n",
       "        vertical-align: middle;\n",
       "    }\n",
       "\n",
       "    .dataframe tbody tr th {\n",
       "        vertical-align: top;\n",
       "    }\n",
       "\n",
       "    .dataframe thead th {\n",
       "        text-align: right;\n",
       "    }\n",
       "</style>\n",
       "<table border=\"1\" class=\"dataframe\">\n",
       "  <thead>\n",
       "    <tr style=\"text-align: right;\">\n",
       "      <th></th>\n",
       "      <th>autor</th>\n",
       "      <th>desc</th>\n",
       "      <th>title</th>\n",
       "      <th>url</th>\n",
       "    </tr>\n",
       "  </thead>\n",
       "  <tbody>\n",
       "    <tr>\n",
       "      <th>0</th>\n",
       "      <td>S Haddad, JF Secourgeon… - … de médecine périn...</td>\n",
       "      <td>… Keywords Fetal heart rate · Physiopathology ...</td>\n",
       "      <td>Implication d'un réseau de périnatalité dans l...</td>\n",
       "      <td>https://rmp.revuesonline.com/articles/lvrmp/ab...</td>\n",
       "    </tr>\n",
       "    <tr>\n",
       "      <th>1</th>\n",
       "      <td>T Rousseau, C Ferdynus, C Quantin, JB Gouyon… ...</td>\n",
       "      <td>… Birth weight. Gestational age. Sex. Curve of...</td>\n",
       "      <td>… des nouveau-nés issus de grossesses uniques ...</td>\n",
       "      <td>http://www.em-consulte.com/en/article/256074</td>\n",
       "    </tr>\n",
       "    <tr>\n",
       "      <th>2</th>\n",
       "      <td>C Ganzhorn, MJ Boiron, MC Brochier… - Journal ...</td>\n",
       "      <td>… Société Française de Médecine Périnatale 88 ...</td>\n",
       "      <td>74 Travail en réseau maternité-pédiatrie</td>\n",
       "      <td>https://www.sciencedirect.com/science/article/...</td>\n",
       "    </tr>\n",
       "    <tr>\n",
       "      <th>3</th>\n",
       "      <td>A Serfaty, G Bréart - Revue de médecine périna...</td>\n",
       "      <td>… de santé périnatale Building Knowledge, Peri...</td>\n",
       "      <td>[CITATION][C] Construction des connaissances, ...</td>\n",
       "      <td>https://link.springer.com/content/pdf/10.1007/...</td>\n",
       "    </tr>\n",
       "    <tr>\n",
       "      <th>4</th>\n",
       "      <td>Y Ville, G Crépin, G Bréart</td>\n",
       "      <td>NA</td>\n",
       "      <td>[CITATION][C] La mortalité périnatale en France</td>\n",
       "      <td>javascript:void(0)</td>\n",
       "    </tr>\n",
       "    <tr>\n",
       "      <th>5</th>\n",
       "      <td>B Blondel - Santé, Société et Solidarité, 2004...</td>\n",
       "      <td>… et extension des informations collectées pou...</td>\n",
       "      <td>[HTML][HTML] Le système d'information périnata...</td>\n",
       "      <td>https://www.persee.fr/doc/oss_1634-8176_2004_n...</td>\n",
       "    </tr>\n",
       "    <tr>\n",
       "      <th>6</th>\n",
       "      <td>C Jobert-Delatoura, AM Prevostb… - … d'Épidémi...</td>\n",
       "      <td>… conclusion.– Ces quelques indicateurs du PMS...</td>\n",
       "      <td>[PDF][PDF] Évaluation de la précarité en SSR à...</td>\n",
       "      <td>https://www.sante-centre.fr/portail_v1/gallery...</td>\n",
       "    </tr>\n",
       "    <tr>\n",
       "      <th>7</th>\n",
       "      <td>R Boulkedid, O Sibony, C Bossu-Salvador… - … d...</td>\n",
       "      <td>NA</td>\n",
       "      <td>[CITATION][C] Système de contrôle de qualité d...</td>\n",
       "      <td>javascript:void(0)</td>\n",
       "    </tr>\n",
       "    <tr>\n",
       "      <th>8</th>\n",
       "      <td>S Pioc, V Merle, H Marini, V Josset… - … d'Épi...</td>\n",
       "      <td>NA</td>\n",
       "      <td>[CITATION][C] Les droits des usagers du systèm...</td>\n",
       "      <td>javascript:void(0)</td>\n",
       "    </tr>\n",
       "    <tr>\n",
       "      <th>9</th>\n",
       "      <td>J Bouaud, B Séroussi, J Gligorov, JP Lotz… - …...</td>\n",
       "      <td>NA</td>\n",
       "      <td>[CITATION][C] Évaluation des limites à la mise...</td>\n",
       "      <td>javascript:void(0)</td>\n",
       "    </tr>\n",
       "  </tbody>\n",
       "</table>\n",
       "</div>"
      ],
      "text/plain": [
       "                                               autor  \\\n",
       "0  S Haddad, JF Secourgeon… - … de médecine périn...   \n",
       "1  T Rousseau, C Ferdynus, C Quantin, JB Gouyon… ...   \n",
       "2  C Ganzhorn, MJ Boiron, MC Brochier… - Journal ...   \n",
       "3  A Serfaty, G Bréart - Revue de médecine périna...   \n",
       "4                        Y Ville, G Crépin, G Bréart   \n",
       "5  B Blondel - Santé, Société et Solidarité, 2004...   \n",
       "6  C Jobert-Delatoura, AM Prevostb… - … d'Épidémi...   \n",
       "7  R Boulkedid, O Sibony, C Bossu-Salvador… - … d...   \n",
       "8  S Pioc, V Merle, H Marini, V Josset… - … d'Épi...   \n",
       "9  J Bouaud, B Séroussi, J Gligorov, JP Lotz… - …...   \n",
       "\n",
       "                                                desc  \\\n",
       "0  … Keywords Fetal heart rate · Physiopathology ...   \n",
       "1  … Birth weight. Gestational age. Sex. Curve of...   \n",
       "2  … Société Française de Médecine Périnatale 88 ...   \n",
       "3  … de santé périnatale Building Knowledge, Peri...   \n",
       "4                                                 NA   \n",
       "5  … et extension des informations collectées pou...   \n",
       "6  … conclusion.– Ces quelques indicateurs du PMS...   \n",
       "7                                                 NA   \n",
       "8                                                 NA   \n",
       "9                                                 NA   \n",
       "\n",
       "                                               title  \\\n",
       "0  Implication d'un réseau de périnatalité dans l...   \n",
       "1  … des nouveau-nés issus de grossesses uniques ...   \n",
       "2           74 Travail en réseau maternité-pédiatrie   \n",
       "3  [CITATION][C] Construction des connaissances, ...   \n",
       "4    [CITATION][C] La mortalité périnatale en France   \n",
       "5  [HTML][HTML] Le système d'information périnata...   \n",
       "6  [PDF][PDF] Évaluation de la précarité en SSR à...   \n",
       "7  [CITATION][C] Système de contrôle de qualité d...   \n",
       "8  [CITATION][C] Les droits des usagers du systèm...   \n",
       "9  [CITATION][C] Évaluation des limites à la mise...   \n",
       "\n",
       "                                                 url  \n",
       "0  https://rmp.revuesonline.com/articles/lvrmp/ab...  \n",
       "1       http://www.em-consulte.com/en/article/256074  \n",
       "2  https://www.sciencedirect.com/science/article/...  \n",
       "3  https://link.springer.com/content/pdf/10.1007/...  \n",
       "4                                 javascript:void(0)  \n",
       "5  https://www.persee.fr/doc/oss_1634-8176_2004_n...  \n",
       "6  https://www.sante-centre.fr/portail_v1/gallery...  \n",
       "7                                 javascript:void(0)  \n",
       "8                                 javascript:void(0)  \n",
       "9                                 javascript:void(0)  "
      ]
     },
     "execution_count": 7,
     "metadata": {},
     "output_type": "execute_result"
    }
   ],
   "source": [
    "pd.DataFrame(first_page)"
   ]
  },
  {
   "cell_type": "code",
   "execution_count": 8,
   "metadata": {},
   "outputs": [],
   "source": [
    "browser.quit()"
   ]
  },
  {
   "cell_type": "markdown",
   "metadata": {},
   "source": [
    "# Export Data"
   ]
  },
  {
   "cell_type": "code",
   "execution_count": 9,
   "metadata": {},
   "outputs": [],
   "source": [
    "# Run process and see if there an error "
   ]
  },
  {
   "cell_type": "code",
   "execution_count": 10,
   "metadata": {},
   "outputs": [],
   "source": [
    "def run_process(page_number, browser):\n",
    "    if connect_to_base(browser, page_number):\n",
    "        sleep(1)\n",
    "        html = browser.page_source\n",
    "        output_list = parse_html(html)\n",
    "    else:\n",
    "        print('Error connecting to google scholar')\n",
    "    return(output_list)"
   ]
  },
  {
   "cell_type": "code",
   "execution_count": 11,
   "metadata": {},
   "outputs": [],
   "source": [
    "# Create data frame"
   ]
  },
  {
   "cell_type": "code",
   "execution_count": 12,
   "metadata": {},
   "outputs": [
    {
     "name": "stderr",
     "output_type": "stream",
     "text": [
      "C:\\Users\\sadaouih\\AppData\\Local\\Continuum\\anaconda3\\envs\\dscience-env\\lib\\site-packages\\ipykernel_launcher.py:4: DeprecationWarning: use options instead of chrome_options\n",
      "  after removing the cwd from sys.path.\n"
     ]
    },
    {
     "name": "stdout",
     "output_type": "stream",
     "text": [
      "Scraping page #0...\n",
      "Scraping page #10...\n",
      "Scraping page #20...\n",
      "Scraping page #30...\n",
      "Scraping page #40...\n",
      "Scraping page #50...\n",
      "Scraping page #60...\n",
      "Scraping page #70...\n",
      "Scraping page #80...\n",
      "Scraping page #90...\n",
      "Scraping page #100...\n",
      "Scraping page #110...\n",
      "Scraping page #120...\n",
      "Scraping page #130...\n",
      "Scraping page #140...\n",
      "Scraping page #150...\n",
      "Scraping page #160...\n",
      "Scraping page #170...\n",
      "Scraping page #180...\n",
      "Scraping page #190...\n",
      "Scraping page #200...\n",
      "Scraping page #210...\n",
      "Scraping page #220...\n",
      "Scraping page #230...\n",
      "Scraping page #240...\n",
      "Scraping page #250...\n",
      "Scraping page #260...\n",
      "Scraping page #270...\n",
      "Scraping page #280...\n",
      "Scraping page #290...\n",
      "Scraping page #300...\n",
      "Scraping page #310...\n",
      "Scraping page #320...\n",
      "Scraping page #330...\n",
      "Scraping page #340...\n",
      "Scraping page #350...\n",
      "Scraping page #360...\n",
      "Scraping page #370...\n",
      "Scraping page #380...\n",
      "Scraping page #390...\n",
      "Scraping page #400...\n",
      "Scraping page #410...\n",
      "Scraping page #420...\n",
      "Scraping page #430...\n",
      "Scraping page #440...\n",
      "Scraping page #450...\n",
      "Scraping page #460...\n",
      "Scraping page #470...\n",
      "Scraping page #480...\n",
      "Scraping page #490...\n",
      "Scraping page #500...\n",
      "Scraping page #510...\n",
      "Scraping page #520...\n",
      "Scraping page #530...\n",
      "Scraping page #540...\n",
      "Scraping page #550...\n",
      "Scraping page #560...\n",
      "Scraping page #570...\n",
      "Scraping page #580...\n",
      "Scraping page #590...\n",
      "Scraping page #600...\n",
      "Scraping page #610...\n",
      "Scraping page #620...\n",
      "Scraping page #630...\n",
      "Scraping page #640...\n",
      "Scraping page #650...\n",
      "Scraping page #660...\n",
      "Scraping page #670...\n",
      "Scraping page #680...\n",
      "Scraping page #690...\n",
      "Scraping page #700...\n",
      "Scraping page #710...\n",
      "Scraping page #720...\n",
      "Scraping page #730...\n",
      "Scraping page #740...\n",
      "Scraping page #750...\n",
      "Scraping page #760...\n",
      "Scraping page #770...\n",
      "Scraping page #780...\n",
      "Scraping page #790...\n",
      "Scraping page #800...\n",
      "Scraping page #810...\n",
      "Scraping page #820...\n",
      "Scraping page #830...\n",
      "Scraping page #840...\n",
      "Scraping page #850...\n",
      "Scraping page #860...\n",
      "Scraping page #870...\n",
      "Scraping page #880...\n",
      "Scraping page #890...\n",
      "Scraping page #900...\n",
      "Scraping page #910...\n",
      "Scraping page #920...\n",
      "Scraping page #930...\n",
      "Scraping page #940...\n",
      "Scraping page #950...\n",
      "Scraping page #960...\n",
      "Elapsed run time: 793.7239999771118 seconds\n"
     ]
    }
   ],
   "source": [
    "if __name__ == '__main__':\n",
    "    # set variables\n",
    "    start_time = time()\n",
    "    current_page = 0\n",
    "    output_timestamp = datetime.datetime.now().strftime('%Y%m%d%H%M%S')\n",
    "    df = []\n",
    "    #page = [10,20,30,40,50]\n",
    "    while current_page <= 960:\n",
    "        browser = get_driver()\n",
    "        print('Scraping page #{}...'.format(current_page))\n",
    "        df.append(run_process(current_page, browser))\n",
    "        current_page = current_page + 10\n",
    "    browser.quit()\n",
    "    \n",
    "    end_time = time()\n",
    "    elapsed_time = end_time - start_time\n",
    "    print('Elapsed run time: {} seconds'.format(elapsed_time))"
   ]
  },
  {
   "cell_type": "code",
   "execution_count": 84,
   "metadata": {},
   "outputs": [],
   "source": [
    "# The final datafrmae"
   ]
  },
  {
   "cell_type": "code",
   "execution_count": 13,
   "metadata": {},
   "outputs": [],
   "source": [
    "df_final  = [val for sublist in df for val in sublist]\n",
    "df_final = pd.DataFrame(df_final)\n",
    "df_final.shape"
   ]
  },
  {
   "cell_type": "code",
   "execution_count": 68,
   "metadata": {},
   "outputs": [],
   "source": [
    "# Year variables"
   ]
  },
  {
   "cell_type": "code",
   "execution_count": 81,
   "metadata": {},
   "outputs": [],
   "source": [
    "# str.split(str.split(df_final['autor'][400],\",\")[-1],\"-\")[0].replace(\" \", \"\")\n",
    "df_final['year'] = df_final['autor'].apply(lambda x : str.split(str.split(x,\",\")[-1],\"-\")[0].replace(\" \", \"\"))\n",
    "\n",
    "letters = list(string.ascii_letters)\n",
    "df_final['year'] = df_final['year'].apply(lambda x: pd.isna(x) if x[1] in letters else x)"
   ]
  },
  {
   "cell_type": "code",
   "execution_count": 83,
   "metadata": {},
   "outputs": [
    {
     "data": {
      "text/html": [
       "<div>\n",
       "<style scoped>\n",
       "    .dataframe tbody tr th:only-of-type {\n",
       "        vertical-align: middle;\n",
       "    }\n",
       "\n",
       "    .dataframe tbody tr th {\n",
       "        vertical-align: top;\n",
       "    }\n",
       "\n",
       "    .dataframe thead th {\n",
       "        text-align: right;\n",
       "    }\n",
       "</style>\n",
       "<table border=\"1\" class=\"dataframe\">\n",
       "  <thead>\n",
       "    <tr style=\"text-align: right;\">\n",
       "      <th></th>\n",
       "      <th>autor</th>\n",
       "      <th>desc</th>\n",
       "      <th>title</th>\n",
       "      <th>url</th>\n",
       "      <th>year</th>\n",
       "    </tr>\n",
       "  </thead>\n",
       "  <tbody>\n",
       "    <tr>\n",
       "      <th>0</th>\n",
       "      <td>B Cornet, JB Gouyon, C Binquet, P Sagot… - … d...</td>\n",
       "      <td>NA</td>\n",
       "      <td>[CITATION][C] Évaluation régionale en périnata...</td>\n",
       "      <td>javascript:void(0)</td>\n",
       "      <td>2001</td>\n",
       "    </tr>\n",
       "    <tr>\n",
       "      <th>1</th>\n",
       "      <td>C Quantin, J Cottenet, A Vuagnat, C Prunet… - ...</td>\n",
       "      <td>Résumé Objectif Comparer les données PMSI rela...</td>\n",
       "      <td>Qualité des données périnatales issues du PMSI...</td>\n",
       "      <td>https://masson.fr/article/843939</td>\n",
       "      <td>2014</td>\n",
       "    </tr>\n",
       "    <tr>\n",
       "      <th>2</th>\n",
       "      <td>A Pierron, M Revert, K Goueslard, A Vuagnat… -...</td>\n",
       "      <td>Résumé Position du problème La France est l'un...</td>\n",
       "      <td>Évaluation de la qualité métrologique des donn...</td>\n",
       "      <td>https://www.researchgate.net/profile/Cottenet_...</td>\n",
       "      <td>2015</td>\n",
       "    </tr>\n",
       "    <tr>\n",
       "      <th>3</th>\n",
       "      <td>PH Bréchat, D Castiel, D Carmona, C Brunner… -...</td>\n",
       "      <td>NA</td>\n",
       "      <td>[CITATION][C] Équité et planification: analyse...</td>\n",
       "      <td>http://fulltext.bdsp.ehesp.fr/Sfsp/SantePubliq...</td>\n",
       "      <td>2008</td>\n",
       "    </tr>\n",
       "    <tr>\n",
       "      <th>4</th>\n",
       "      <td>C Cans, J Fauconnier, A Benbassa, F Olive - 20...</td>\n",
       "      <td>… la pertinence de cet item pour l'épidémiolog...</td>\n",
       "      <td>[HTML][HTML] Mortinatalité et interruptions de...</td>\n",
       "      <td>http://www.em-consulte.com/en/article/114204</td>\n",
       "      <td>False</td>\n",
       "    </tr>\n",
       "  </tbody>\n",
       "</table>\n",
       "</div>"
      ],
      "text/plain": [
       "                                               autor  \\\n",
       "0  B Cornet, JB Gouyon, C Binquet, P Sagot… - … d...   \n",
       "1  C Quantin, J Cottenet, A Vuagnat, C Prunet… - ...   \n",
       "2  A Pierron, M Revert, K Goueslard, A Vuagnat… -...   \n",
       "3  PH Bréchat, D Castiel, D Carmona, C Brunner… -...   \n",
       "4  C Cans, J Fauconnier, A Benbassa, F Olive - 20...   \n",
       "\n",
       "                                                desc  \\\n",
       "0                                                 NA   \n",
       "1  Résumé Objectif Comparer les données PMSI rela...   \n",
       "2  Résumé Position du problème La France est l'un...   \n",
       "3                                                 NA   \n",
       "4  … la pertinence de cet item pour l'épidémiolog...   \n",
       "\n",
       "                                               title  \\\n",
       "0  [CITATION][C] Évaluation régionale en périnata...   \n",
       "1  Qualité des données périnatales issues du PMSI...   \n",
       "2  Évaluation de la qualité métrologique des donn...   \n",
       "3  [CITATION][C] Équité et planification: analyse...   \n",
       "4  [HTML][HTML] Mortinatalité et interruptions de...   \n",
       "\n",
       "                                                 url   year  \n",
       "0                                 javascript:void(0)   2001  \n",
       "1                   https://masson.fr/article/843939   2014  \n",
       "2  https://www.researchgate.net/profile/Cottenet_...   2015  \n",
       "3  http://fulltext.bdsp.ehesp.fr/Sfsp/SantePubliq...   2008  \n",
       "4       http://www.em-consulte.com/en/article/114204  False  "
      ]
     },
     "execution_count": 83,
     "metadata": {},
     "output_type": "execute_result"
    }
   ],
   "source": [
    "df_final.head()"
   ]
  },
  {
   "cell_type": "code",
   "execution_count": 84,
   "metadata": {},
   "outputs": [],
   "source": [
    "#df_final.to_excel('Articles-perintal+pmsi.xlsx')"
   ]
  }
 ],
 "metadata": {
  "kernelspec": {
   "display_name": "Python 3",
   "language": "python",
   "name": "python3"
  },
  "language_info": {
   "codemirror_mode": {
    "name": "ipython",
    "version": 3
   },
   "file_extension": ".py",
   "mimetype": "text/x-python",
   "name": "python",
   "nbconvert_exporter": "python",
   "pygments_lexer": "ipython3",
   "version": "3.5.5"
  }
 },
 "nbformat": 4,
 "nbformat_minor": 2
}
