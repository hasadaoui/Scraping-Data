{
 "cells": [
  {
   "cell_type": "markdown",
   "metadata": {},
   "source": [
    "### Objectif "
   ]
  },
  {
   "cell_type": "markdown",
   "metadata": {},
   "source": [
    "This notebook explain how to scraping data from website, for this task, I will use BeautifulSoup from bs4 packages, as supplementary , and Selenium package to do the same think."
   ]
  },
  {
   "cell_type": "markdown",
   "metadata": {},
   "source": [
    "# USING BeautifulSoup"
   ]
  },
  {
   "cell_type": "markdown",
   "metadata": {},
   "source": [
    "### Load necessary packages"
   ]
  },
  {
   "cell_type": "code",
   "execution_count": 1,
   "metadata": {},
   "outputs": [],
   "source": [
    "import requests \n",
    "import re\n",
    "from bs4 import BeautifulSoup"
   ]
  },
  {
   "cell_type": "markdown",
   "metadata": {},
   "source": [
    "### Extracting html code for one page"
   ]
  },
  {
   "cell_type": "code",
   "execution_count": 3,
   "metadata": {},
   "outputs": [],
   "source": [
    "# The link, extract  html code just for one page \n",
    "link = 'https://www.indeed.fr/cmp/IBM/reviews?fcountry=ALL'\n",
    "r = requests.get(link) # Because Beautiful Soup is not an HTTP client...\n",
    "soup = BeautifulSoup(r.text,'html.parser')\n",
    "#print(soup.prettify())"
   ]
  },
  {
   "cell_type": "code",
   "execution_count": 4,
   "metadata": {},
   "outputs": [],
   "source": [
    "# Extract all the data for the first 100 pages \n",
    "x1=1\n",
    "x2=1170\n",
    "nbr_pages = [x*20 for x in range(x1, x2)]\n",
    "\n",
    "links = []\n",
    "rs    = []\n",
    "soup  = []\n",
    "\n",
    "for i in nbr_pages:\n",
    "    links.append(link+'&start='+str(i)) \n",
    "for j in range(0,len(links)):\n",
    "    rs.append(requests.get(links[j]))\n",
    "    soup.append(BeautifulSoup(rs[j].text,'html.parser'))"
   ]
  },
  {
   "cell_type": "code",
   "execution_count": 4,
   "metadata": {},
   "outputs": [],
   "source": [
    "# The second page containt this html code\n",
    "# print(soup[0].prettify())"
   ]
  },
  {
   "cell_type": "code",
   "execution_count": 5,
   "metadata": {},
   "outputs": [
    {
     "data": {
      "text/plain": [
       "'Work from home'"
      ]
     },
     "execution_count": 5,
     "metadata": {},
     "output_type": "execute_result"
    }
   ],
   "source": [
    "soup[0].find_all('div',class_='cmp-review-pro-text')[0].get_text()"
   ]
  },
  {
   "cell_type": "code",
   "execution_count": 6,
   "metadata": {},
   "outputs": [],
   "source": [
    "#cmp-review-title          #  div \n",
    "#cmp-reviewer-job-title    # span\n",
    "#cmp-reviewer-job-location # span\n",
    "#cmp-review-date-created   # span\n",
    "#cmp-review-description    # div \n",
    "\n",
    "title = []\n",
    "job_title = []\n",
    "location = []\n",
    "date = []\n",
    "desc = []\n",
    "\n",
    "\n",
    "for j in range((len(soup)-1)):\n",
    "    for i in range(len(soup[j].find_all('div',class_='cmp-review-title'))):\n",
    "        title.append(soup[j].find_all('div',class_='cmp-review-title')[i].get_text())\n",
    "        job_title.append(soup[j].find_all('span',class_='cmp-reviewer-job-title')[i].get_text())        \n",
    "        location.append(soup[j].find_all('span',class_='cmp-reviewer-job-location')[i].get_text())        \n",
    "        date.append(soup[j].find_all('span',class_='cmp-review-date-created')[i].get_text())  \n",
    "        desc.append(soup[j].find_all('div',class_='cmp-review-description')[i].get_text())"
   ]
  },
  {
   "cell_type": "code",
   "execution_count": null,
   "metadata": {},
   "outputs": [],
   "source": [
    "# Create dataframe with four columns"
   ]
  },
  {
   "cell_type": "code",
   "execution_count": 9,
   "metadata": {},
   "outputs": [
    {
     "data": {
      "text/html": [
       "<div>\n",
       "<style scoped>\n",
       "    .dataframe tbody tr th:only-of-type {\n",
       "        vertical-align: middle;\n",
       "    }\n",
       "\n",
       "    .dataframe tbody tr th {\n",
       "        vertical-align: top;\n",
       "    }\n",
       "\n",
       "    .dataframe thead th {\n",
       "        text-align: right;\n",
       "    }\n",
       "</style>\n",
       "<table border=\"1\" class=\"dataframe\">\n",
       "  <thead>\n",
       "    <tr style=\"text-align: right;\">\n",
       "      <th></th>\n",
       "      <th>date</th>\n",
       "      <th>title</th>\n",
       "      <th>job_title</th>\n",
       "      <th>location</th>\n",
       "      <th>desc</th>\n",
       "    </tr>\n",
       "  </thead>\n",
       "  <tbody>\n",
       "    <tr>\n",
       "      <th>0</th>\n",
       "      <td>9 octobre 2018</td>\n",
       "      <td>travailleur salle blanche</td>\n",
       "      <td>Ouvrier de production (ancien employé) –</td>\n",
       "      <td>Coudray-Montceaux (91)</td>\n",
       "      <td>bonne expérience, travail en salle blanche par...</td>\n",
       "    </tr>\n",
       "    <tr>\n",
       "      <th>1</th>\n",
       "      <td>5 novembre 2018</td>\n",
       "      <td>Good place to work</td>\n",
       "      <td>Account Specialist/SDM (ancien employé) –</td>\n",
       "      <td>Bengaluru, Karnataka</td>\n",
       "      <td>It is a good place to work. Work/Life balance ...</td>\n",
       "    </tr>\n",
       "    <tr>\n",
       "      <th>2</th>\n",
       "      <td>5 novembre 2018</td>\n",
       "      <td>trabajo externo</td>\n",
       "      <td>Analista TI proyecto office 365 (ancien employ...</td>\n",
       "      <td>San Nicolás de los Garza, N. L.</td>\n",
       "      <td>buen ambiente de trabajo aprendi administrar l...</td>\n",
       "    </tr>\n",
       "    <tr>\n",
       "      <th>3</th>\n",
       "      <td>5 novembre 2018</td>\n",
       "      <td>Conocimiento y proactividad</td>\n",
       "      <td>Business Analyst (ancien employé) –</td>\n",
       "      <td>Santiago de Chile, Región Metropolitana</td>\n",
       "      <td>Jornada flexible, aprendi a crear soluciones a...</td>\n",
       "    </tr>\n",
       "    <tr>\n",
       "      <th>4</th>\n",
       "      <td>5 novembre 2018</td>\n",
       "      <td>Fabulous place to work and develop your skills</td>\n",
       "      <td>National Sales Executive, IBM Software Group (...</td>\n",
       "      <td>Ontario, CA</td>\n",
       "      <td>People are very professional but the company's...</td>\n",
       "    </tr>\n",
       "  </tbody>\n",
       "</table>\n",
       "</div>"
      ],
      "text/plain": [
       "              date                                           title  \\\n",
       "0   9 octobre 2018                       travailleur salle blanche   \n",
       "1  5 novembre 2018                              Good place to work   \n",
       "2  5 novembre 2018                                 trabajo externo   \n",
       "3  5 novembre 2018                     Conocimiento y proactividad   \n",
       "4  5 novembre 2018  Fabulous place to work and develop your skills   \n",
       "\n",
       "                                           job_title  \\\n",
       "0         Ouvrier de production (ancien employé) –     \n",
       "1        Account Specialist/SDM (ancien employé) –     \n",
       "2  Analista TI proyecto office 365 (ancien employ...   \n",
       "3              Business Analyst (ancien employé) –     \n",
       "4  National Sales Executive, IBM Software Group (...   \n",
       "\n",
       "                                  location  \\\n",
       "0                   Coudray-Montceaux (91)   \n",
       "1                     Bengaluru, Karnataka   \n",
       "2          San Nicolás de los Garza, N. L.   \n",
       "3  Santiago de Chile, Región Metropolitana   \n",
       "4                              Ontario, CA   \n",
       "\n",
       "                                                desc  \n",
       "0  bonne expérience, travail en salle blanche par...  \n",
       "1  It is a good place to work. Work/Life balance ...  \n",
       "2  buen ambiente de trabajo aprendi administrar l...  \n",
       "3  Jornada flexible, aprendi a crear soluciones a...  \n",
       "4  People are very professional but the company's...  "
      ]
     },
     "execution_count": 9,
     "metadata": {},
     "output_type": "execute_result"
    }
   ],
   "source": [
    "import pandas as pd \n",
    "df = pd.DataFrame([date,title,job_title,location,desc]).T\n",
    "df.columns = ['date','title','job_title','location','desc']\n",
    "df.head()"
   ]
  },
  {
   "cell_type": "code",
   "execution_count": 10,
   "metadata": {},
   "outputs": [
    {
     "data": {
      "text/plain": [
       "(378, 5)"
      ]
     },
     "execution_count": 10,
     "metadata": {},
     "output_type": "execute_result"
    }
   ],
   "source": [
    "df.shape"
   ]
  },
  {
   "cell_type": "markdown",
   "metadata": {},
   "source": [
    "wouuw , as you can see, we have a data frame with 378 rows or reviews and 5 columns,the deal is to understand the reviews, I have to analyse the textuel data and see if the reviews of salaries how worked in the past in IBM are satisfaid or not. we remark that there is a review in diffrente language, in the next step (notebook), I will show you how to extract just english reviews and how to use NLP to describe and study the reviews of IBM company "
   ]
  },
  {
   "cell_type": "code",
   "execution_count": null,
   "metadata": {},
   "outputs": [],
   "source": []
  }
 ],
 "metadata": {
  "kernelspec": {
   "display_name": "Python 3",
   "language": "python",
   "name": "python3"
  },
  "language_info": {
   "codemirror_mode": {
    "name": "ipython",
    "version": 3
   },
   "file_extension": ".py",
   "mimetype": "text/x-python",
   "name": "python",
   "nbconvert_exporter": "python",
   "pygments_lexer": "ipython3",
   "version": "3.5.5"
  }
 },
 "nbformat": 4,
 "nbformat_minor": 2
}
